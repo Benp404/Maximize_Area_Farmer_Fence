{
 "cells": [
  {
   "cell_type": "markdown",
   "metadata": {},
   "source": [
    "Maximization Notes\n",
    "Maximizing the area of a rectangle or square\n",
    "\n",
    "Quadratic equations can be used to convert a perimeter into area.  The example is a farmer wants to make a fence.  He has purchased 80 feet of fencing.  He wants to fence in 3 sides and the 4th side is his barn.  \n",
    "\n",
    "Equation for perimeter for square or rectangle is \n",
    "$$P=L+W+L+W$$\n",
    "Since we only need three sides to fence in the field the equation has to be modified $$P=L+W+L$$\n",
    "The moified equation simplified is $$P=2L+W$$\n",
    "Since we are working with quadratics, the variables, L and W have to be simplified to just L or W.  We have to put 80 in for P, Equation to do this is\n",
    "$$80=2L+W$$$$80-2L=W$$\n",
    "The variables to start solving for area are\n",
    "$$Length = L$$\n",
    "$$Width = -2L+80$$\n",
    "$$Area= L(-2L+80)$$\n",
    "$$Area= -2L^2+80L$$\n",
    "\n",
    "Now that we have the equation in quadratic formual we can find the line of symetry.  The line of symetry will give us an X value and also the maximim length of L.  $$Line of Symetry= - \\frac{b}{2a}$$\n",
    "$$Line OfSymetry=-\\frac{80}{2(-2)}$$\n",
    "$$Line of symetry = \\frac{-80}{-4}$$\n",
    "$$Line of Symetry = 20$$\n",
    "The line of symetry is the x value if you want to graph the function and also the maximum length of one L.  Then we go back to our perimeter formula and we see the legnth of each side.\n",
    "$$Perimeter = 2L+W$$\n",
    "$$ Perimeter = 2(20)+20+20$$"
   ]
  },
  {
   "cell_type": "code",
   "execution_count": 2,
   "metadata": {},
   "outputs": [
    {
     "name": "stdout",
     "output_type": "stream",
     "text": [
      "max length 20.0, max width 40.0, max area 800.0\n"
     ]
    },
    {
     "data": {
      "image/png": "[encoded data removed]",
      "text/plain": [
       "<Figure size 432x288 with 1 Axes>"
      ]
     },
     "metadata": {
      "needs_background": "light"
     },
     "output_type": "display_data"
    }
   ],
   "source": [
    "from matplotlib.pyplot import *\n",
    "from numpy import * \n",
    "# First the perimeter has to be found, p=-2l^2 + 80L, the line of symetry can be found.\n",
    "# The line of Symetry will give the maximum length of one side. \n",
    "def line_of_sym(a,b):\n",
    "    numerator = -1*b\n",
    "    denominator = 2*a\n",
    "    return numerator/denominator\n",
    "maximum_side = line_of_sym(-2, 80)\n",
    "maximum_length = 2*maximum_side\n",
    "\n",
    "#  The output from the line of symetry equation is then plugged back into the quadratic\n",
    "#  The maximum area then can be found, it is the y quaradic.\n",
    "\n",
    "def max_area(max_side):\n",
    "    max_area = -2*maximum_side**2+80*maximum_side\n",
    "    return max_area\n",
    "\n",
    "maximum_area = max_area(maximum_side)\n",
    "\n",
    "\n",
    "print(f'max length {maximum_side}, max width {maximum_length}, max area {maximum_area}')\n",
    "\n",
    "# The parabola can then be drawn to show the maximium area.\n",
    "      \n",
    "x=linspace(0,30, 1000)\n",
    "y=-2*x**2+80*x\n",
    "plot(x,y)\n",
    "xlabel(\"Length of Side\")\n",
    "ylabel(\"Maximum Area\")\n",
    "show()   \n",
    "    "
   ]
  },
  {
   "cell_type": "code",
   "execution_count": null,
   "metadata": {},
   "outputs": [],
   "source": []
  }
 ],
 "metadata": {
  "kernelspec": {
   "display_name": "Python 3",
   "language": "python",
   "name": "python3"
  },
  "language_info": {
   "codemirror_mode": {
    "name": "ipython",
    "version": 3
   },
   "file_extension": ".py",
   "mimetype": "text/x-python",
   "name": "python",
   "nbconvert_exporter": "python",
   "pygments_lexer": "ipython3",
   "version": "3.8.5"
  }
 },
 "nbformat": 4,
 "nbformat_minor": 4
}
